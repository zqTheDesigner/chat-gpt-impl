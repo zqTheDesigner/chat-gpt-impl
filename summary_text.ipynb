{
 "cells": [
  {
   "cell_type": "code",
   "execution_count": 9,
   "metadata": {},
   "outputs": [],
   "source": [
    "from service import create_chat\n",
    "import pprint"
   ]
  },
  {
   "cell_type": "code",
   "execution_count": 2,
   "metadata": {},
   "outputs": [],
   "source": [
    "text_to_sum = '''\n",
    "MediaCorp aims to translate English CNA articles into Bahasa Indonesia (BI) for the Indonesia market. In view of the recent advancement in Machine Translation (MT) technology, the plan is to use MT to assist the Editorial team so that such translation can be accomplished more efficiently.\n",
    "\n",
    "Mediacorp has collaborated with A*STAR to train a MT Engine for English to BI and Sentient has been selected to develop and deploy an application which productised the MT Engine on Mediacorp’s private cloud.\n",
    "\n",
    "The final solution will be using Sentient ScribeRabbit MT software embedded with A*STAR BI MT Engine and customised based on Mediacorp’s requirements.\n",
    "'''"
   ]
  },
  {
   "cell_type": "code",
   "execution_count": 3,
   "metadata": {},
   "outputs": [],
   "source": [
    "messages = [\n",
    "    {\"role\": \"system\", \"content\": \"Help me summary below text.\"},\n",
    "    {\"role\": \"user\", \"content\": text_to_sum},\n",
    "]\n"
   ]
  },
  {
   "cell_type": "code",
   "execution_count": 4,
   "metadata": {},
   "outputs": [],
   "source": [
    "response = create_chat(messages)"
   ]
  },
  {
   "cell_type": "code",
   "execution_count": 22,
   "metadata": {},
   "outputs": [
    {
     "data": {
      "text/plain": [
       "\"Mediacorp plans to use machine translation (MT) technology to translate English CNA articles into Bahasa Indonesia for the Indonesian market. They have collaborated with A*STAR to train an MT engine and Sentient has been selected to develop and deploy an application to productize the MT engine on Mediacorp's private cloud. The final solution will use Sentient ScribeRabbit MT software embedded with A*STAR BI MT Engine and customized based on Mediacorp's requirements.\""
      ]
     },
     "execution_count": 22,
     "metadata": {},
     "output_type": "execute_result"
    }
   ],
   "source": [
    "response['choices'][0]['message']['content']"
   ]
  },
  {
   "cell_type": "code",
   "execution_count": null,
   "metadata": {},
   "outputs": [],
   "source": [
    "\"Mediacorp plans to use machine translation (MT) technology to translate English CNA articles into Bahasa Indonesia for the Indonesian market. They have collaborated with A*STAR to train an MT engine and Sentient has been selected to develop and deploy an application to productize the MT engine on Mediacorp's private cloud. The final solution will use Sentient ScribeRabbit MT software embedded with A*STAR BI MT Engine and customized based on Mediacorp's requirements.\""
   ]
  }
 ],
 "metadata": {
  "kernelspec": {
   "display_name": "env",
   "language": "python",
   "name": "python3"
  },
  "language_info": {
   "codemirror_mode": {
    "name": "ipython",
    "version": 3
   },
   "file_extension": ".py",
   "mimetype": "text/x-python",
   "name": "python",
   "nbconvert_exporter": "python",
   "pygments_lexer": "ipython3",
   "version": "3.9.16"
  },
  "orig_nbformat": 4
 },
 "nbformat": 4,
 "nbformat_minor": 2
}
